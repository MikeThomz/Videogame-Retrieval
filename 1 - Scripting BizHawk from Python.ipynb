{
 "cells": [
  {
   "cell_type": "code",
   "execution_count": null,
   "metadata": {
    "collapsed": true
   },
   "outputs": [],
   "source": [
    "%pylab inline\n",
    "%run bizhawk.py\n",
    "import subprocess\n",
    "import os"
   ]
  },
  {
   "cell_type": "code",
   "execution_count": null,
   "metadata": {
    "collapsed": true
   },
   "outputs": [],
   "source": [
    "FPS = 60\n",
    "\n",
    "rom_path = ''\n",
    "bizhawk_path = 'BizHawk-2.2.2/'\n",
    "lua_path = '../action.lua'"
   ]
  },
  {
   "cell_type": "code",
   "execution_count": null,
   "metadata": {
    "collapsed": true
   },
   "outputs": [],
   "source": [
    "with BizHawk(rom_path, bizhawk_path, lua_path=lua_path) as bh:\n",
    "    #Speed up\n",
    "    bh.send(b'client.speedmode(400);')\n",
    "    \n",
    "    #Advance 10 seconds\n",
    "    for i in range(10 * FPS):\n",
    "        bh.send(b'emu.frameadvance();')\n",
    "        \n",
    "    #Save and show screenshot\n",
    "    code = b'client.screenshot(\"temp.png\");'\n",
    "    code += b'io.stdout:write(\"saved\");'\n",
    "    bh.send(code)\n",
    "    bh.wait_until(b'saved\\n')\n",
    "    imshow(imread('temp.png'));\n",
    "    \n",
    "    #Show memory\n",
    "    bh.send(b'io.stdout:write(mainmemory.getcurrentmemorydomainsize());')\n",
    "    ram_size = int(bh.proc.stdout.readline()[:-1].decode('utf-8'))\n",
    "    print('RAM size:', ram_size)\n",
    "    \n",
    "    #Show the first 8192 bytes\n",
    "    ram = []\n",
    "    for i in range(8192):\n",
    "        bh.send(b'io.stdout:write(mainmemory.readbyte(' + str.encode(str(i)) + b'));')\n",
    "        ram.append(int(bh.proc.stdout.readline()[:-1].decode('utf-8')))\n",
    "    ram = np.reshape(ram, (8192 // 256, 256))\n",
    "    \n",
    "    figure()\n",
    "    imshow(ram);\n",
    "    \n",
    "    #Save state to file\n",
    "    bh.send(b'savestate.save(\"temp.state\");')\n",
    "    \n",
    "    #Press a button on the controller\n",
    "    code = b'buttons = {};'\n",
    "    code += b'buttons[\"Start\"] = 0;'\n",
    "    code += b'joypad.set(buttons, 1);'\n",
    "    bh.send(code)\n",
    "    \n",
    "    #Advance 10 more seconds\n",
    "    for i in range(10 * FPS):\n",
    "        bh.send(b'emu.frameadvance();')\n",
    "        \n",
    "    #Show another screenshot\n",
    "    code = b'client.screenshot(\"temp.png\");'\n",
    "    code += b'io.stdout:write(\"saved\");'\n",
    "    bh.send(code)\n",
    "    bh.wait_until(b'saved\\n')\n",
    "    \n",
    "    figure()\n",
    "    imshow(imread('temp.png'));\n",
    "    \n",
    "    #Load state and show screenshot to confirm load\n",
    "    code = b'savestate.load(\"temp.state\");'\n",
    "    code += b'client.screenshot(\"temp.png\");'\n",
    "    code += b'io.stdout:write(\"saved\");'\n",
    "    bh.send(code)\n",
    "    bh.wait_until(b'saved\\n')\n",
    "    \n",
    "    figure()\n",
    "    imshow(imread('temp.png'));\n",
    "    \n",
    "os.remove('temp.png')\n",
    "os.remove('temp.state')"
   ]
  }
 ],
 "metadata": {
  "kernelspec": {
   "display_name": "Python 3",
   "language": "python",
   "name": "python3"
  },
  "language_info": {
   "codemirror_mode": {
    "name": "ipython",
    "version": 3
   },
   "file_extension": ".py",
   "mimetype": "text/x-python",
   "name": "python",
   "nbconvert_exporter": "python",
   "pygments_lexer": "ipython3",
   "version": "3.5.2"
  }
 },
 "nbformat": 4,
 "nbformat_minor": 2
}
