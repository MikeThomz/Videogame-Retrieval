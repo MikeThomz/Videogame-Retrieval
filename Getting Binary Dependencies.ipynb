{
 "cells": [
  {
   "cell_type": "markdown",
   "metadata": {},
   "source": [
    "# About BizHawk"
   ]
  },
  {
   "cell_type": "markdown",
   "metadata": {},
   "source": [
    "BizHawk is an emulator designed originally for the Tool-Assisted Speedruns (TAS) community. We use BizHawk because it supports a number of platforms such as SNES, GB and N64, it has full recording support and more importantly it allows Lua scripting. \n",
    "\n",
    "The version of BizHawk we were using for the videogame retrieval project is 2.2.2. If you plan to run some of our lua or python scripts, make sure you are using 2.2.2 or later.\n",
    "\n",
    "You can download the precompile BizHawk in http://tasvideos.org/BizHawk/ReleaseHistory.html\n",
    "\n",
    "You should run a couple of roms to make sure that BizHawk works."
   ]
  }
 ],
 "metadata": {
  "kernelspec": {
   "display_name": "Python 3",
   "language": "python",
   "name": "python3"
  },
  "language_info": {
   "codemirror_mode": {
    "name": "ipython",
    "version": 3
   },
   "file_extension": ".py",
   "mimetype": "text/x-python",
   "name": "python",
   "nbconvert_exporter": "python",
   "pygments_lexer": "ipython3",
   "version": "3.6.5"
  }
 },
 "nbformat": 4,
 "nbformat_minor": 2
}
