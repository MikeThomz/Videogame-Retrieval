{
 "cells": [
  {
   "cell_type": "code",
   "execution_count": null,
   "metadata": {
    "collapsed": true
   },
   "outputs": [],
   "source": [
    "%run bizhawk.py\n",
    "from glob import glob\n",
    "import subprocess"
   ]
  },
  {
   "cell_type": "code",
   "execution_count": null,
   "metadata": {
    "collapsed": true
   },
   "outputs": [],
   "source": [
    "interval = 10 #The interval of saving screenshots and memory\n",
    "bizhawk_path = 'BizHawk-2.2.2/'\n",
    "rom_dirs = 'roms/'\n",
    "movie_dirs = 'movies/'\n",
    "rom_paths = glob(rom_dirs + '*.smc')\n",
    "movie_paths = glob(movie_dirs + '*.bk2')\n",
    "lua_path = '../collect.lua'\n",
    "\n",
    "print('Number of roms:', len(rom_paths))"
   ]
  },
  {
   "cell_type": "code",
   "execution_count": null,
   "metadata": {
    "collapsed": true
   },
   "outputs": [],
   "source": [
    "for i, rom_path in enumerate(rom_paths):\n",
    "    #Getting Data\n",
    "    with BizHawk(rom_path, bizhawk_path, lua_path=lua_path, movie_path=movie_paths[i]) as bh:\n",
    "        print(rom_path, end='\\r')\n",
    "        bh.send(str.encode(str(interval)))\n",
    "        while bh.proc.stdout.readline() != b'':\n",
    "            pass\n",
    "        \n",
    "print('Done')"
   ]
  }
 ],
 "metadata": {
  "kernelspec": {
   "display_name": "Python 3",
   "language": "python",
   "name": "python3"
  },
  "language_info": {
   "codemirror_mode": {
    "name": "ipython",
    "version": 3
   },
   "file_extension": ".py",
   "mimetype": "text/x-python",
   "name": "python",
   "nbconvert_exporter": "python",
   "pygments_lexer": "ipython3",
   "version": "3.5.2"
  }
 },
 "nbformat": 4,
 "nbformat_minor": 2
}
