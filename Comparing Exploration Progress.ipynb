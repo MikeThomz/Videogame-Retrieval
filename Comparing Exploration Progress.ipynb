{
 "cells": [
  {
   "cell_type": "markdown",
   "metadata": {},
   "source": [
    "Use attract mode and simple chaos monkey to get some embeddings (5 minutes of play) and plot both datasets. Idealy there is no need to change the \"action.lua\" script. However, the rom_path variable needs to be changed to the path to your rom file."
   ]
  },
  {
   "cell_type": "code",
   "execution_count": null,
   "metadata": {
    "collapsed": true
   },
   "outputs": [],
   "source": [
    "%pylab inline\n",
    "import subprocess\n",
    "from keras.applications.inception_v3 import InceptionV3\n",
    "from sklearn.manifold import TSNE\n",
    "import os"
   ]
  },
  {
   "cell_type": "markdown",
   "metadata": {},
   "source": [
    "# Attract Mode"
   ]
  },
  {
   "cell_type": "code",
   "execution_count": null,
   "metadata": {
    "collapsed": true
   },
   "outputs": [],
   "source": [
    "%%time\n",
    "\n",
    "#Function for saving image and getting embedding\n",
    "def img_lua():\n",
    "    img_path = 'temp.png'\n",
    "    proc.stdin.write(b'client.screenshot(\"' + bytes(img_path, 'utf-8') + b'\");')\n",
    "    proc.stdin.write(b'io.stdout:write(\"continue\");')\n",
    "    proc.stdin.flush()\n",
    "    while proc.stdout.readline() != b'continue\\n':\n",
    "        pass\n",
    "    \n",
    "    #Keras only take a batch of data point so a batch of\n",
    "    #one data point is feeded to keras\n",
    "    temp_img = np.expand_dims(imread(img_path), axis=0)\n",
    "    return embedded_model.predict(temp_img)[0]\n",
    "\n",
    "FRAMES_PER_STEP = 30\n",
    "ACTION_NUM = 4096 #There are in total 4096 combinations of actions\n",
    "preparation = False\n",
    "distribution = np.load('SNES_distribution.npy') #The distribution of button pressed\n",
    "embedded_model = InceptionV3()\n",
    "bizhawk_path = 'BizHawk-2.2.2/'\n",
    "rom_path = '' #Path to the .smc rom file\n",
    "steps = 600"
   ]
  },
  {
   "cell_type": "code",
   "execution_count": null,
   "metadata": {
    "collapsed": true
   },
   "outputs": [],
   "source": [
    "%%time\n",
    "\n",
    "embeddings = []\n",
    "\n",
    "#Start BizHawk\n",
    "proc = subprocess.Popen([bizhawk_path + 'EmuHawk.exe',\n",
    "                         rom_path,\n",
    "                         '--lua=../action.lua'],\n",
    "                         stdout=subprocess.PIPE,\n",
    "                         stdin=subprocess.PIPE)\n",
    "\n",
    "while True:\n",
    "    out_line = proc.stdout.readline()\n",
    "    \n",
    "    if out_line[:5] == b'start':\n",
    "        preparation = True\n",
    "        \n",
    "    if preparation:\n",
    "        proc.stdin.write(b'client.speedmode(400);')\n",
    "        proc.stdin.flush()\n",
    "        \n",
    "        #Press no button\n",
    "        for i in range(steps * FRAMES_PER_STEP):\n",
    "            if i % FRAMES_PER_STEP == 0:\n",
    "                embeddings.append(img_lua())\n",
    "            proc.stdin.write(b'emu.frameadvance();')\n",
    "            proc.stdin.flush()\n",
    "        \n",
    "        embeddings.append(img_lua())\n",
    "        break\n",
    "    \n",
    "    #Terminate EmuHawk\n",
    "    if out_line == b'':\n",
    "        break\n",
    "        \n",
    "proc.terminate()\n",
    "attract_embeddings = np.array(embeddings)"
   ]
  },
  {
   "cell_type": "markdown",
   "metadata": {},
   "source": [
    "# Chaos Monkey"
   ]
  },
  {
   "cell_type": "code",
   "execution_count": null,
   "metadata": {
    "collapsed": true
   },
   "outputs": [],
   "source": [
    "%%time\n",
    "\n",
    "embeddings = []\n",
    "\n",
    "#Start BizHawk\n",
    "proc = subprocess.Popen([bizhawk_path + 'EmuHawk.exe',\n",
    "                         rom_path,\n",
    "                         '--lua=../action.lua'],\n",
    "                         stdout=subprocess.PIPE,\n",
    "                         stdin=subprocess.PIPE)\n",
    "\n",
    "while True:\n",
    "    out_line = proc.stdout.readline()\n",
    "    \n",
    "    if out_line[:5] == b'start':\n",
    "        preparation = True\n",
    "        \n",
    "    if preparation:\n",
    "        proc.stdin.write(b'client.speedmode(400);')\n",
    "        proc.stdin.flush()\n",
    "        \n",
    "        #SNES\n",
    "        action_name = [\"Up\", \"Down\", \"Left\", \"Right\", \"Select\",\n",
    "                       \"Start\", \"B\", \"A\", \"X\", \"Y\", \"L\", \"R\"]\n",
    "        \n",
    "        #Press random buttons based on the buttons distribution\n",
    "        for i in range(steps * FRAMES_PER_STEP):\n",
    "            if i % FRAMES_PER_STEP == 0:\n",
    "                embeddings.append(img_lua())\n",
    "                \n",
    "                #Select what buttons to press\n",
    "                action_code = b''\n",
    "                temp_action = np.random.choice(4096, p=distribution)\n",
    "                action = \"{0:b}\".format(temp_action).rjust(12, '0')[::-1]\n",
    "\n",
    "                action_code += b'buttons = {}'\n",
    "                for j, name in enumerate(action_name):\n",
    "                    if action[j] == '1':\n",
    "                        action_code += b'buttons[\"' + str.encode(name) + b'\"] = 1;'\n",
    "\n",
    "                action_code += b'joypad.set(buttons, 1);'\n",
    "                action_code += b'emu.frameadvance();'\n",
    "\n",
    "                proc.stdin.write(action_code)\n",
    "                proc.stdin.flush()\n",
    "            else:\n",
    "                proc.stdin.write(b'joypad.set(buttons, 1);')\n",
    "                proc.stdin.write(b'emu.frameadvance();')\n",
    "                proc.stdin.flush()\n",
    "        \n",
    "        embeddings.append(img_lua())\n",
    "        break\n",
    "    \n",
    "    #to terminate program after closing EmuHawk\n",
    "    if out_line == b'':\n",
    "        break\n",
    "        \n",
    "proc.terminate()\n",
    "chaos_embeddings = np.array(embeddings)\n",
    "os.remove('temp.png')"
   ]
  },
  {
   "cell_type": "markdown",
   "metadata": {},
   "source": [
    "# Visualization"
   ]
  },
  {
   "cell_type": "code",
   "execution_count": null,
   "metadata": {
    "collapsed": true
   },
   "outputs": [],
   "source": [
    "#Plot bounding box sum and nuclear norm as a function of time\n",
    "\n",
    "def get_score(embeddings):\n",
    "    embeddings = np.array(embeddings)\n",
    "    length = len(embeddings)\n",
    "    bbox_sum = np.zeros(length-1)\n",
    "    nuc_norm = np.zeros(length-1)\n",
    "    for i in range(2, length):\n",
    "        bbox_sum[i-1] = sum(amax(embeddings[:i], axis=0) - amin(embeddings[:i], axis=0))\n",
    "        nuc_norm[i-1] = linalg.norm(cov(embeddings[:i].T), ord='nuc')\n",
    "        \n",
    "    return bbox_sum, nuc_norm\n",
    "\n",
    "\n",
    "attract_bbox_sum, attract_nuc_norm = get_score(attract_embeddings)\n",
    "chaos_bbox_sum, chaos_nuc_norm = get_score(chaos_embeddings)\n",
    "\n",
    "plot(attract_bbox_sum, label='Attract Mode')\n",
    "plot(chaos_bbox_sum, label='Chaos Monkey')\n",
    "title('Bounding Box Sum')\n",
    "legend()\n",
    "show()\n",
    "\n",
    "figure()\n",
    "plot(attract_nuc_norm, label='Attract Mode')\n",
    "plot(chaos_nuc_norm, label='Chaos Monkey')\n",
    "title('Nuclear Norm')\n",
    "legend()\n",
    "show()"
   ]
  },
  {
   "cell_type": "code",
   "execution_count": null,
   "metadata": {
    "collapsed": true
   },
   "outputs": [],
   "source": [
    "#Plot attract mode data and chaos monkey data with tSNE\n",
    "\n",
    "tsne = TSNE(n_components=2)\n",
    "tsne.fit(np.concatenate((attract_embeddings, chaos_embeddings)))\n",
    "\n",
    "attract_tsne = tsne.fit_transform(attract_embeddings)\n",
    "chaos_tsne = tsne.fit_transform(chaos_embeddings)\n",
    "\n",
    "scatter(attract_tsne[:, 0], attract_tsne[:, 1], color='r', label='Attract Mode')\n",
    "scatter(chaos_tsne[:, 0], chaos_tsne[:, 1], color='b', label='Chaos Monkey')\n",
    "legend()\n",
    "show()"
   ]
  }
 ],
 "metadata": {
  "kernelspec": {
   "display_name": "Python 3",
   "language": "python",
   "name": "python3"
  },
  "language_info": {
   "codemirror_mode": {
    "name": "ipython",
    "version": 3
   },
   "file_extension": ".py",
   "mimetype": "text/x-python",
   "name": "python",
   "nbconvert_exporter": "python",
   "pygments_lexer": "ipython3",
   "version": "3.5.2"
  }
 },
 "nbformat": 4,
 "nbformat_minor": 2
}
