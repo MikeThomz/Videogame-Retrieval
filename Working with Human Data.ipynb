{
 "cells": [
  {
   "cell_type": "markdown",
   "metadata": {},
   "source": [
    "# BK2 Movie"
   ]
  },
  {
   "cell_type": "markdown",
   "metadata": {},
   "source": [
    "According to http://tasvideos.org/Bizhawk/BK2Format.html, “.bk2 is an archive file that contains movie data broken into various files. It is a zip format and can be opened with any unzip tool, such as 7z.” Essentially, bk2 files allow us to record and play previous input back. Most bk2 files on the internet are stored in the TASVideos website and these movies are usually tool-assisted speedrun. For example, http://tasvideos.org/2948M.html is the speedrun movie for ActRaiser 2 in SNES. To get a better description of what a bk2 file is, check out http://tasvideos.org/Bizhawk/BK2Format.html\n",
    "\n",
    "Unfortunately, there are several issues preventing us from using almost all of the movie files in TASVideo. First of all, not all movies in TASVideo are in the bk2 format. Some of them are bkm files, the obsolete movie format, while some others are lsmv files or smv files, movie formats for other emulators. Although bizhawk provides a way to convert them to bk2 format, it is not guaranteed that the converted bk2 files would still be in sync. Even with a bk2 files there is still a chance where it is not compatible with the latest version of BizHawk because it is recorded in a much older version of BizHawk."
   ]
  },
  {
   "cell_type": "markdown",
   "metadata": {},
   "source": [
    "# How to record an input sequence (movie)"
   ]
  },
  {
   "cell_type": "markdown",
   "metadata": {},
   "source": [
    "1. Run BizHawk\n",
    "2. File -> Open Rom\n",
    "3. File -> Movie -> Record Movie... (record from power on)\n",
    "4. Play game\n",
    "5. File -> Movie -> Stop Movie\n",
    "\n",
    "Note that the movie file should be stored in BizHawk-2.2.2/Movies by default"
   ]
  },
  {
   "cell_type": "markdown",
   "metadata": {},
   "source": [
    "# Existing movies"
   ]
  },
  {
   "cell_type": "markdown",
   "metadata": {},
   "source": [
    "Fortunately, we have already collected the movies of more than 100 SNES games and a dozen of GB games and N64 games. All of these movie files are stored in “Data Collection Project” folder. Be aware that movies in “Spring 2018 Movies” are collected with BizHawk 2.2.2 while movies in “Winter 2018 Movies (Old BizHawk)” folder are collected with a older version of BizHawk and need to be taken care of separately."
   ]
  },
  {
   "cell_type": "markdown",
   "metadata": {},
   "source": [
    "# How to turn a bk2 file into screenshots and memory"
   ]
  },
  {
   "cell_type": "markdown",
   "metadata": {},
   "source": [
    "1. Put all of your .bk2 files and rom files you want to convert in \"movie\" folder and \"rom\" folder respectively\n",
    "2. Rename your .bk2 files the same name as the corresponding rom files\n",
    "3. Run the codes below\n",
    "\n",
    "Screenshots and memory should be in the \"data\" folder. Idealy there is no need to change \"collect.lua\" script."
   ]
  },
  {
   "cell_type": "code",
   "execution_count": null,
   "metadata": {
    "collapsed": true
   },
   "outputs": [],
   "source": [
    "from glob import glob\n",
    "import subprocess"
   ]
  },
  {
   "cell_type": "code",
   "execution_count": null,
   "metadata": {
    "collapsed": true
   },
   "outputs": [],
   "source": [
    "interval = 10 # the interval of saving screenshots and memory\n",
    "bizhawk_path = 'BizHawk-2.2.2/'\n",
    "rom_dirs = 'rom/'\n",
    "movie_dirs = 'movie/'\n",
    "rom_paths = glob(rom_dirs + '*')\n",
    "movie_paths = [(movie_dirs + rom[4:rom.find('.', -5)] + '.bk2') for i, rom in enumerate(rom_paths)]\n",
    "\n",
    "print('Number of roms:', len(rom_paths))"
   ]
  },
  {
   "cell_type": "code",
   "execution_count": null,
   "metadata": {
    "collapsed": true
   },
   "outputs": [],
   "source": [
    "for i, rom_path in enumerate(rom_paths):\n",
    "    extension = rom_path[rom_path.find('.', -5)+1:]\n",
    "\n",
    "    #Getting Data\n",
    "    proc = subprocess.Popen([bizhawk_path + 'EmuHawk.exe',\n",
    "                             rom_path,\n",
    "                             '--lua=../collect.lua',\n",
    "                             '--movie=' + movie_paths[i]],\n",
    "                             stdout=subprocess.PIPE,\n",
    "                             stdin=subprocess.PIPE)\n",
    "\n",
    "    while True:\n",
    "        out_line = proc.stdout.readline()\n",
    "        \n",
    "        #get rom name\n",
    "        if out_line[:5] == b'start':\n",
    "            rom_info = out_line[6:-1].decode()\n",
    "            print(rom_info)\n",
    "            proc.stdin.write(str.encode(str(interval)))\n",
    "            proc.stdin.flush()\n",
    "            \n",
    "        #to terminate program after closing EmuHawk\n",
    "        if out_line == b'':\n",
    "            break\n",
    "    proc.terminate()\n",
    "    \n",
    "print('Done')"
   ]
  }
 ],
 "metadata": {
  "kernelspec": {
   "display_name": "Python 3",
   "language": "python",
   "name": "python3"
  },
  "language_info": {
   "codemirror_mode": {
    "name": "ipython",
    "version": 3
   },
   "file_extension": ".py",
   "mimetype": "text/x-python",
   "name": "python",
   "nbconvert_exporter": "python",
   "pygments_lexer": "ipython3",
   "version": "3.5.2"
  }
 },
 "nbformat": 4,
 "nbformat_minor": 2
}
