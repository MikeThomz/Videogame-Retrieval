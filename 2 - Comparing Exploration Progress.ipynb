{
 "cells": [
  {
   "cell_type": "code",
   "execution_count": null,
   "metadata": {
    "collapsed": true
   },
   "outputs": [],
   "source": [
    "%pylab inline\n",
    "%run bizhawk.py\n",
    "%run helper.py\n",
    "import subprocess\n",
    "from keras.applications.inception_v3 import InceptionV3\n",
    "from sklearn.manifold import TSNE\n",
    "import os"
   ]
  },
  {
   "cell_type": "markdown",
   "metadata": {},
   "source": [
    "# Attract Mode"
   ]
  },
  {
   "cell_type": "code",
   "execution_count": null,
   "metadata": {
    "collapsed": true
   },
   "outputs": [],
   "source": [
    "rom_path = ''\n",
    "bizhawk_path = 'BizHawk-2.2.2/'\n",
    "lua_path = '../action.lua'\n",
    "\n",
    "FRAMES_PER_STEP = 30\n",
    "steps = 1200\n",
    "ACTION_NUM = 4096 #There are in total 4096 combinations of actions\n",
    "distribution = np.load('SNES_distribution.npy') #The distribution of button pressed\n",
    "embedded_model = InceptionV3() #It takes a while to load the inception model"
   ]
  },
  {
   "cell_type": "code",
   "execution_count": null,
   "metadata": {
    "collapsed": true
   },
   "outputs": [],
   "source": [
    "embeddings = []\n",
    "\n",
    "with BizHawk(rom_path, bizhawk_path, lua_path=lua_path) as bh:\n",
    "    bh.send(b'client.speedmode(400);')\n",
    "    for i in range(steps * FRAMES_PER_STEP):\n",
    "        if i % FRAMES_PER_STEP == 0:\n",
    "            temp_img = bh.read_img('temp.png')\n",
    "            temp_img = np.expand_dims(temp_img, axis=0)\n",
    "            temp_img = embedded_model.predict(temp_img)[0]\n",
    "            embeddings.append(temp_img)\n",
    "        bh.send(b'emu.frameadvance();')\n",
    "\n",
    "attract_embeddings = np.array(embeddings)"
   ]
  },
  {
   "cell_type": "markdown",
   "metadata": {},
   "source": [
    "# Chaos Monkey"
   ]
  },
  {
   "cell_type": "code",
   "execution_count": null,
   "metadata": {
    "collapsed": true
   },
   "outputs": [],
   "source": [
    "embeddings = []\n",
    "\n",
    "#SNES actions\n",
    "button_names = ['Up', 'Down', 'Left', 'Right', 'Select',\n",
    "                'Start', 'B', 'A', 'X', 'Y', 'L', 'R']\n",
    "\n",
    "with BizHawk(rom_path, bizhawk_path, lua_path=lua_path) as bh:\n",
    "    bh.send(b'client.speedmode(400);')\n",
    "    \n",
    "    for i in range(steps * FRAMES_PER_STEP):\n",
    "        code = b'buttons = {};'\n",
    "        if i % FRAMES_PER_STEP == 0:\n",
    "            #Save embedding\n",
    "            temp_img = bh.read_img('temp.png')\n",
    "            temp_img = np.expand_dims(temp_img, axis=0)\n",
    "            temp_img = embedded_model.predict(temp_img)[0]\n",
    "            embeddings.append(temp_img)\n",
    "            \n",
    "            #Select what buttons to press\n",
    "            temp_action = np.random.choice(4096, p=distribution)\n",
    "            action = \"{0:b}\".format(temp_action).rjust(12, '0')[::-1]\n",
    "            \n",
    "            for j, name in enumerate(button_names):\n",
    "                if action[j] == '1':\n",
    "                    code += b'buttons[\"' + str.encode(name) + b'\"] = 1;'\n",
    "            \n",
    "        #Press buttons\n",
    "        code += b'joypad.set(buttons, 1);'\n",
    "        code += b'emu.frameadvance();'\n",
    "        \n",
    "        bh.send(code)\n",
    "        \n",
    "chaos_embeddings = np.array(embeddings)\n",
    "os.remove('temp.png')"
   ]
  },
  {
   "cell_type": "markdown",
   "metadata": {},
   "source": [
    "# Visualization"
   ]
  },
  {
   "cell_type": "code",
   "execution_count": null,
   "metadata": {
    "collapsed": true
   },
   "outputs": [],
   "source": [
    "#Plot bounding box sum and nuclear norm as a function of time\n",
    "\n",
    "attract_bbox_sum, attract_nuc_norm = get_score(attract_embeddings)\n",
    "chaos_bbox_sum, chaos_nuc_norm = get_score(chaos_embeddings)\n",
    "\n",
    "plot(attract_bbox_sum, label='Attract Mode')\n",
    "plot(chaos_bbox_sum, label='Chaos Monkey')\n",
    "title('Bounding Box Sum')\n",
    "legend()\n",
    "show()\n",
    "\n",
    "figure()\n",
    "plot(attract_nuc_norm, label='Attract Mode')\n",
    "plot(chaos_nuc_norm, label='Chaos Monkey')\n",
    "title('Nuclear Norm')\n",
    "legend()\n",
    "show()"
   ]
  },
  {
   "cell_type": "code",
   "execution_count": null,
   "metadata": {
    "collapsed": true
   },
   "outputs": [],
   "source": [
    "#Plot attract mode data and chaos monkey data with tSNE\n",
    "\n",
    "tsne = TSNE(n_components=2)\n",
    "tsne.fit(np.concatenate((attract_embeddings, chaos_embeddings)))\n",
    "\n",
    "attract_tsne = tsne.fit_transform(attract_embeddings)\n",
    "chaos_tsne = tsne.fit_transform(chaos_embeddings)\n",
    "\n",
    "scatter(attract_tsne[:, 0], attract_tsne[:, 1], color='r', label='Attract Mode')\n",
    "scatter(chaos_tsne[:, 0], chaos_tsne[:, 1], color='b', label='Chaos Monkey')\n",
    "legend()\n",
    "show()"
   ]
  }
 ],
 "metadata": {
  "kernelspec": {
   "display_name": "Python 3",
   "language": "python",
   "name": "python3"
  },
  "language_info": {
   "codemirror_mode": {
    "name": "ipython",
    "version": 3
   },
   "file_extension": ".py",
   "mimetype": "text/x-python",
   "name": "python",
   "nbconvert_exporter": "python",
   "pygments_lexer": "ipython3",
   "version": "3.5.2"
  }
 },
 "nbformat": 4,
 "nbformat_minor": 2
}
