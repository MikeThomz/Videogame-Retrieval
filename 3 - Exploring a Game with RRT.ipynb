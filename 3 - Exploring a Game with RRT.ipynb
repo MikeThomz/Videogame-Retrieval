{
 "cells": [
  {
   "cell_type": "code",
   "execution_count": null,
   "metadata": {
    "collapsed": true
   },
   "outputs": [],
   "source": [
    "%pylab inline\n",
    "%run bizhawk.py\n",
    "%run helper.py\n",
    "import os\n",
    "import subprocess\n",
    "import shutil\n",
    "from keras.applications.inception_v3 import InceptionV3"
   ]
  },
  {
   "cell_type": "markdown",
   "metadata": {},
   "source": [
    "# RRT"
   ]
  },
  {
   "cell_type": "code",
   "execution_count": null,
   "metadata": {
    "collapsed": true
   },
   "outputs": [],
   "source": [
    "#RRT function\n",
    "def explore_with_rrt(bh, initial_state, successor, get_goal,\n",
    "                     projection, max_samples=1000):\n",
    "    edges = []\n",
    "    states = [initial_state]\n",
    "    projections = [projection(initial_state)]\n",
    "    available_actions = [set(np.arange(ACTION_NUM))]\n",
    "    \n",
    "    for i in range(max_samples):\n",
    "        goal = get_goal()\n",
    "        \n",
    "        #Get the cloest point in the tree\n",
    "        min_index = 0\n",
    "        min_value = np.linalg.norm(projections[0] - goal)\n",
    "        for j in range(len(states)):\n",
    "            temp_projection = np.linalg.norm(projections[j] - goal)\n",
    "            if temp_projection <= min_value:\n",
    "                min_index = j\n",
    "                min_value = temp_projection\n",
    "        chosen_index = min_index\n",
    "        \n",
    "        #Get successor state\n",
    "        chosen_state = states[chosen_index]\n",
    "        selected_action, successor_state = successor(bh, chosen_state, goal,\n",
    "                                                     available_actions[chosen_state])\n",
    "        \n",
    "        #Append successor state\n",
    "        available_actions.append(set(np.arange(ACTION_NUM)))\n",
    "        chosen_projection = projections[chosen_index]\n",
    "        successor_projection = projection(successor_state)\n",
    "        states.append(successor_state)\n",
    "        projections.append(successor_projection)\n",
    "        \n",
    "        edges.append((goal, chosen_state, selected_action,\n",
    "                      successor_state, chosen_projection,\n",
    "                      successor_projection))\n",
    "        \n",
    "    return edges\n",
    "        \n",
    "#Project states to embeddings\n",
    "def state_projection(state):\n",
    "    return embeddings[state]\n",
    "\n",
    "#Select a random action, do it for 30 frames and return the successor state\n",
    "def get_random_successor(bh, state, goal, available_action):\n",
    "    button_names = ['Up', 'Down', 'Left', 'Right', 'Select',\n",
    "                    'Start', 'B', 'A', 'X', 'Y', 'L', 'R']\n",
    "    \n",
    "    #Select a random action based on button distribution\n",
    "    temp_action = np.random.choice(ACTION_NUM, p=distribution)\n",
    "    while temp_action not in available_action:\n",
    "        temp_action = np.random.choice(ACTION_NUM, p=distribution)\n",
    "    action = '{0:b}'.format(temp_action).rjust(12, '0')[::-1]\n",
    "    \n",
    "    next_state = len(embeddings)\n",
    "    \n",
    "    #Do the selected action\n",
    "    for i in range(FRAMES_PER_STEP + 1):\n",
    "        code = b'buttons = {};'\n",
    "        \n",
    "        for j, name in enumerate(button_names):\n",
    "            if action[j] == '1':\n",
    "                code += b'buttons[\"' + str.encode(name) + b'\"] = 1;'\n",
    "                \n",
    "        code += b'joypad.set(buttons, 1);'\n",
    "        code += b'emu.frameadvance();'\n",
    "        \n",
    "        if i == 0:\n",
    "            bh.send(b'savestate.load(\"' + str.encode(paths[state]) + b'\");')\n",
    "            bh.send(code)\n",
    "\n",
    "        elif i == FRAMES_PER_STEP:\n",
    "            temp_img = bh.read_img('temp.png')\n",
    "            temp_img = np.expand_dims(temp_img, axis=0)\n",
    "            temp_img = embedded_model.predict(temp_img)[0]\n",
    "            embeddings.append(temp_img)\n",
    "            paths.append(state_path + str(len(embeddings)) + '.state')\n",
    "            \n",
    "            bh.send(b'savestate.save(\"' + str.encode(paths[-1]) + b'\");')\n",
    "\n",
    "        else:\n",
    "            bh.send(b'joypad.set(buttons, 1);emu.frameadvance();')\n",
    "\n",
    "    return (temp_action, next_state)\n",
    "\n",
    "#Initialize a random goal point \n",
    "def random_goal():\n",
    "    goal = np.random.uniform(0, 1, 1000)\n",
    "    return goal\n",
    "        \n",
    "    \n",
    "rom_path = ''\n",
    "bizhawk_path = 'BizHawk-2.2.2/'\n",
    "lua_path = '../action.lua'\n",
    "state_path = 'states/'\n",
    "\n",
    "steps = 200\n",
    "FRAMES_PER_STEP = 30\n",
    "ACTION_NUM = 4096\n",
    "embedded_model = InceptionV3()\n",
    "distribution=np.load('SNES_distribution.npy')"
   ]
  },
  {
   "cell_type": "code",
   "execution_count": null,
   "metadata": {
    "collapsed": true
   },
   "outputs": [],
   "source": [
    "embeddings = []\n",
    "paths = []\n",
    "\n",
    "if not os.path.exists(state_path):\n",
    "    os.mkdir(state_path)\n",
    "\n",
    "with BizHawk(rom_path, bizhawk_path, lua_path=lua_path) as bh:\n",
    "    bh.send(b'client.speedmode(400);')\n",
    "    \n",
    "    #Save the initial state\n",
    "    temp_img = bh.read_img('temp.png')\n",
    "    '''\n",
    "    temp_img = np.expand_dims(temp_img, axis=0)\n",
    "    temp_img = embedded_model.predict(temp_img)[0]\n",
    "    embeddings.append(temp_img)\n",
    "    '''\n",
    "    embeddings.append(get_embedding(temp_img, embedded_model))\n",
    "    \n",
    "    paths.append(state_path + str(len(embeddings)) + '.state')\n",
    "    bh.send(b'savestate.save(\"' + str.encode(paths[-1]) + b'\");print(\"ok\");')\n",
    "    \n",
    "    #Run RRT\n",
    "    edges = explore_with_rrt(bh, 0, get_random_successor,\n",
    "                             random_goal, state_projection,\n",
    "                             max_samples=steps)"
   ]
  },
  {
   "cell_type": "markdown",
   "metadata": {},
   "source": [
    "# Visualization"
   ]
  },
  {
   "cell_type": "code",
   "execution_count": null,
   "metadata": {
    "collapsed": true
   },
   "outputs": [],
   "source": [
    "os.remove('temp.png')\n",
    "shutil.rmtree(state_path)\n",
    "\n",
    "bbox_sum, nuc_norm = get_score(embeddings)\n",
    "\n",
    "plot(bbox_sum)\n",
    "title('Bounding Box Sum')\n",
    "show()\n",
    "\n",
    "figure()\n",
    "plot(nuc_norm)\n",
    "title('Nuclear Norm')\n",
    "show()"
   ]
  }
 ],
 "metadata": {
  "kernelspec": {
   "display_name": "Python 3",
   "language": "python",
   "name": "python3"
  },
  "language_info": {
   "codemirror_mode": {
    "name": "ipython",
    "version": 3
   },
   "file_extension": ".py",
   "mimetype": "text/x-python",
   "name": "python",
   "nbconvert_exporter": "python",
   "pygments_lexer": "ipython3",
   "version": "3.5.2"
  }
 },
 "nbformat": 4,
 "nbformat_minor": 2
}
